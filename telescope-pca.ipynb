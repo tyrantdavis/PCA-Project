{
 "cells": [
  {
   "cell_type": "markdown",
   "id": "f9df7b4c-9c13-4f0a-a9b2-5f0d59795e39",
   "metadata": {},
   "source": [
    "# Telescopes - PCA Project"
   ]
  },
  {
   "cell_type": "markdown",
   "id": "6bcdfb2d-9842-465d-ae62-868d99a3ae52",
   "metadata": {},
   "source": [
    "## Import Packages"
   ]
  },
  {
   "cell_type": "code",
   "execution_count": 1,
   "id": "b100002f-25a4-4bea-814f-223af36307df",
   "metadata": {
    "scrolled": true
   },
   "outputs": [
    {
     "name": "stdout",
     "output_type": "stream",
     "text": [
      "Libraries used in this project:\n",
      "- Python 3.9.20 (main, Oct  3 2024, 02:27:54) \n",
      "[Clang 14.0.6 ]\n",
      "- NumPy 1.22.3\n",
      "- pandas 1.4.1\n",
      "- Matplotlib 3.8.4\n",
      "- Seaborn 0.13.0\n",
      "- scikit-learn 1.2.2\n",
      "\n"
     ]
    }
   ],
   "source": [
    "import warnings  # Supress warnings\n",
    "\n",
    "warnings.filterwarnings(\"ignore\")\n",
    "import os  # Interact with the operating system.\n",
    "import sys  # Read system parameters.\n",
    "from io import StringIO  # Read and write strings as files\n",
    "from urllib.parse import urlparse  # Parse URL and extract path component\n",
    "\n",
    "import matplotlib as mpl\n",
    "import matplotlib.pyplot as plt\n",
    "import numpy as np\n",
    "import pandas as pd\n",
    "import requests  # Send HTTP requests\n",
    "import seaborn as sns\n",
    "import sklearn\n",
    "from sklearn import datasets\n",
    "from sklearn.decomposition import PCA\n",
    "from sklearn.model_selection import train_test_split\n",
    "from sklearn.svm import LinearSVC\n",
    "\n",
    "print(\"Libraries used in this project:\")\n",
    "print(\"- Python {}\".format(sys.version))\n",
    "print(\"- NumPy {}\".format(np.__version__))\n",
    "print(\"- pandas {}\".format(pd.__version__))\n",
    "print(\"- Matplotlib {}\".format(mpl.__version__))\n",
    "print(\"- Seaborn {}\".format(sns.__version__))\n",
    "print(\"- scikit-learn {}\\n\".format(sklearn.__version__))"
   ]
  },
  {
   "cell_type": "markdown",
   "id": "5687a738-8419-4c9d-b911-1156c2c6e4d1",
   "metadata": {},
   "source": [
    "## Load the Dataset"
   ]
  },
  {
   "cell_type": "code",
   "execution_count": 2,
   "id": "043d869a-690f-4ae5-a6df-3dc3699d6fe5",
   "metadata": {},
   "outputs": [
    {
     "name": "stdout",
     "output_type": "stream",
     "text": [
      "Loaded 19020 telescope records from telescope.csv.\n"
     ]
    }
   ],
   "source": [
    "\"\"\"Capture URL\"\"\"\n",
    "\n",
    "url = \"https://raw.githubusercontent.com/tyrantdavis/datasets/refs/heads/main/telescope.csv\"\n",
    "\n",
    "\"\"\"Get the request object\"\"\"\n",
    "request = requests.get(url).text\n",
    "\n",
    "\"\"\"Save as data frame and copy\"\"\"\n",
    "telescopes = pd.read_csv(StringIO(request))\n",
    "df = telescopes.copy()\n",
    "\n",
    "\"\"\"Parse the URL\"\"\"\n",
    "parsed_url = urlparse(url)\n",
    "path = parsed_url.path\n",
    "filename = os.path.basename(path)\n",
    "\n",
    "\n",
    "print(f\"Loaded {len(df)} telescope records from {filename}.\")"
   ]
  }
 ],
 "metadata": {
  "kernelspec": {
   "display_name": "Python 3 (ipykernel)",
   "language": "python",
   "name": "python3"
  },
  "language_info": {
   "codemirror_mode": {
    "name": "ipython",
    "version": 3
   },
   "file_extension": ".py",
   "mimetype": "text/x-python",
   "name": "python",
   "nbconvert_exporter": "python",
   "pygments_lexer": "ipython3",
   "version": "3.9.20"
  }
 },
 "nbformat": 4,
 "nbformat_minor": 5
}
