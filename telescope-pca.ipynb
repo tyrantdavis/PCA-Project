{
 "cells": [
  {
   "cell_type": "markdown",
   "id": "f9df7b4c-9c13-4f0a-a9b2-5f0d59795e39",
   "metadata": {},
   "source": [
    "# Telescopes - PCA Project"
   ]
  },
  {
   "cell_type": "markdown",
   "id": "6bcdfb2d-9842-465d-ae62-868d99a3ae52",
   "metadata": {},
   "source": [
    "## Import Packages"
   ]
  },
  {
   "cell_type": "code",
   "execution_count": 3,
   "id": "b100002f-25a4-4bea-814f-223af36307df",
   "metadata": {
    "scrolled": true
   },
   "outputs": [
    {
     "name": "stdout",
     "output_type": "stream",
     "text": [
      "Libraries used in this project:\n",
      "- Python 3.9.20 (main, Oct  3 2024, 02:27:54) \n",
      "[Clang 14.0.6 ]\n",
      "- NumPy 1.22.3\n",
      "- pandas 1.4.1\n",
      "- Matplotlib 3.8.4\n",
      "- Seaborn 0.13.0\n",
      "- scikit-learn 1.2.2\n",
      "\n"
     ]
    }
   ],
   "source": [
    "import warnings  # Supress warnings\n",
    "\n",
    "warnings.filterwarnings(\"ignore\")\n",
    "import os  # Interact with the operating system.\n",
    "import sys  # Read system parameters.\n",
    "from io import StringIO  # Read and write strings as files\n",
    "from urllib.parse import urlparse  # Parse URL and extract path component\n",
    "\n",
    "import matplotlib as mpl\n",
    "import matplotlib.pyplot as plt\n",
    "import numpy as np\n",
    "import pandas as pd\n",
    "import requests  # Send HTTP requests\n",
    "import seaborn as sns\n",
    "import sklearn\n",
    "from sklearn import datasets\n",
    "from sklearn.decomposition import PCA\n",
    "from sklearn.model_selection import train_test_split\n",
    "from sklearn.svm import LinearSVC\n",
    "\n",
    "print(\"Libraries used in this project:\")\n",
    "print(\"- Python {}\".format(sys.version))\n",
    "print(\"- NumPy {}\".format(np.__version__))\n",
    "print(\"- pandas {}\".format(pd.__version__))\n",
    "print(\"- Matplotlib {}\".format(mpl.__version__))\n",
    "print(\"- Seaborn {}\".format(sns.__version__))\n",
    "print(\"- scikit-learn {}\\n\".format(sklearn.__version__))"
   ]
  },
  {
   "cell_type": "markdown",
   "id": "5687a738-8419-4c9d-b911-1156c2c6e4d1",
   "metadata": {},
   "source": [
    "## Load the Dataset"
   ]
  },
  {
   "cell_type": "code",
   "execution_count": 4,
   "id": "043d869a-690f-4ae5-a6df-3dc3699d6fe5",
   "metadata": {},
   "outputs": [
    {
     "name": "stdout",
     "output_type": "stream",
     "text": [
      "Loaded 19020 telescope records from telescope.csv.\n"
     ]
    }
   ],
   "source": [
    "\"\"\"Capture URL\"\"\"\n",
    "\n",
    "url = \"https://raw.githubusercontent.com/tyrantdavis/datasets/refs/heads/main/telescope.csv\"\n",
    "\n",
    "\"\"\"Get the request object\"\"\"\n",
    "request = requests.get(url).text\n",
    "\n",
    "\"\"\"Save as data frame and copy\"\"\"\n",
    "telescopes = pd.read_csv(StringIO(request))\n",
    "df = telescopes.copy()\n",
    "\n",
    "\"\"\"Parse the URL\"\"\"\n",
    "parsed_url = urlparse(url)\n",
    "path = parsed_url.path\n",
    "filename = os.path.basename(path)\n",
    "\n",
    "\n",
    "print(f\"Loaded {len(df)} telescope records from {filename}.\")"
   ]
  },
  {
   "cell_type": "markdown",
   "id": "70ae1aef-69a0-4403-85ed-1bbf82f44e73",
   "metadata": {},
   "source": [
    "### Task 1: Drop nan values."
   ]
  },
  {
   "cell_type": "markdown",
   "id": "068cae7d-b8aa-4bad-89f4-f545ecbab11a",
   "metadata": {},
   "source": [
    "#### Drop null and nan values"
   ]
  },
  {
   "cell_type": "code",
   "execution_count": 5,
   "id": "0fb68d87-d35e-4fea-bc4a-c28519c3ca09",
   "metadata": {},
   "outputs": [
    {
     "data": {
      "text/html": [
       "<div>\n",
       "<style scoped>\n",
       "    .dataframe tbody tr th:only-of-type {\n",
       "        vertical-align: middle;\n",
       "    }\n",
       "\n",
       "    .dataframe tbody tr th {\n",
       "        vertical-align: top;\n",
       "    }\n",
       "\n",
       "    .dataframe thead th {\n",
       "        text-align: right;\n",
       "    }\n",
       "</style>\n",
       "<table border=\"1\" class=\"dataframe\">\n",
       "  <thead>\n",
       "    <tr style=\"text-align: right;\">\n",
       "      <th></th>\n",
       "      <th>pindex</th>\n",
       "      <th>fLength</th>\n",
       "      <th>fWidth</th>\n",
       "      <th>fSize</th>\n",
       "      <th>fConc</th>\n",
       "      <th>fConc1</th>\n",
       "      <th>fAsym</th>\n",
       "      <th>fM3Long</th>\n",
       "      <th>fM3Trans</th>\n",
       "      <th>fAlpha</th>\n",
       "      <th>fDist</th>\n",
       "      <th>class</th>\n",
       "    </tr>\n",
       "  </thead>\n",
       "  <tbody>\n",
       "    <tr>\n",
       "      <th>0</th>\n",
       "      <td>0</td>\n",
       "      <td>28.7967</td>\n",
       "      <td>16.0021</td>\n",
       "      <td>2.6449</td>\n",
       "      <td>0.3918</td>\n",
       "      <td>0.1982</td>\n",
       "      <td>27.7004</td>\n",
       "      <td>22.0110</td>\n",
       "      <td>-8.2027</td>\n",
       "      <td>40.0920</td>\n",
       "      <td>81.8828</td>\n",
       "      <td>g</td>\n",
       "    </tr>\n",
       "    <tr>\n",
       "      <th>1</th>\n",
       "      <td>1</td>\n",
       "      <td>31.6036</td>\n",
       "      <td>11.7235</td>\n",
       "      <td>2.5185</td>\n",
       "      <td>0.5303</td>\n",
       "      <td>0.3773</td>\n",
       "      <td>26.2722</td>\n",
       "      <td>23.8238</td>\n",
       "      <td>-9.9574</td>\n",
       "      <td>6.3609</td>\n",
       "      <td>205.2610</td>\n",
       "      <td>g</td>\n",
       "    </tr>\n",
       "    <tr>\n",
       "      <th>2</th>\n",
       "      <td>2</td>\n",
       "      <td>162.0520</td>\n",
       "      <td>136.0310</td>\n",
       "      <td>4.0612</td>\n",
       "      <td>0.0374</td>\n",
       "      <td>0.0187</td>\n",
       "      <td>116.7410</td>\n",
       "      <td>-64.8580</td>\n",
       "      <td>-45.2160</td>\n",
       "      <td>76.9600</td>\n",
       "      <td>256.7880</td>\n",
       "      <td>g</td>\n",
       "    </tr>\n",
       "    <tr>\n",
       "      <th>3</th>\n",
       "      <td>3</td>\n",
       "      <td>23.8172</td>\n",
       "      <td>9.5728</td>\n",
       "      <td>2.3385</td>\n",
       "      <td>0.6147</td>\n",
       "      <td>0.3922</td>\n",
       "      <td>27.2107</td>\n",
       "      <td>-6.4633</td>\n",
       "      <td>-7.1513</td>\n",
       "      <td>10.4490</td>\n",
       "      <td>116.7370</td>\n",
       "      <td>g</td>\n",
       "    </tr>\n",
       "    <tr>\n",
       "      <th>4</th>\n",
       "      <td>4</td>\n",
       "      <td>75.1362</td>\n",
       "      <td>30.9205</td>\n",
       "      <td>3.1611</td>\n",
       "      <td>0.3168</td>\n",
       "      <td>0.1832</td>\n",
       "      <td>-5.5277</td>\n",
       "      <td>28.5525</td>\n",
       "      <td>21.8393</td>\n",
       "      <td>4.6480</td>\n",
       "      <td>356.4620</td>\n",
       "      <td>g</td>\n",
       "    </tr>\n",
       "    <tr>\n",
       "      <th>...</th>\n",
       "      <td>...</td>\n",
       "      <td>...</td>\n",
       "      <td>...</td>\n",
       "      <td>...</td>\n",
       "      <td>...</td>\n",
       "      <td>...</td>\n",
       "      <td>...</td>\n",
       "      <td>...</td>\n",
       "      <td>...</td>\n",
       "      <td>...</td>\n",
       "      <td>...</td>\n",
       "      <td>...</td>\n",
       "    </tr>\n",
       "    <tr>\n",
       "      <th>19015</th>\n",
       "      <td>19015</td>\n",
       "      <td>21.3846</td>\n",
       "      <td>10.9170</td>\n",
       "      <td>2.6161</td>\n",
       "      <td>0.5857</td>\n",
       "      <td>0.3934</td>\n",
       "      <td>15.2618</td>\n",
       "      <td>11.5245</td>\n",
       "      <td>2.8766</td>\n",
       "      <td>2.4229</td>\n",
       "      <td>106.8258</td>\n",
       "      <td>h</td>\n",
       "    </tr>\n",
       "    <tr>\n",
       "      <th>19016</th>\n",
       "      <td>19016</td>\n",
       "      <td>28.9452</td>\n",
       "      <td>6.7020</td>\n",
       "      <td>2.2672</td>\n",
       "      <td>0.5351</td>\n",
       "      <td>0.2784</td>\n",
       "      <td>37.0816</td>\n",
       "      <td>13.1853</td>\n",
       "      <td>-2.9632</td>\n",
       "      <td>86.7975</td>\n",
       "      <td>247.4560</td>\n",
       "      <td>h</td>\n",
       "    </tr>\n",
       "    <tr>\n",
       "      <th>19017</th>\n",
       "      <td>19017</td>\n",
       "      <td>75.4455</td>\n",
       "      <td>47.5305</td>\n",
       "      <td>3.4483</td>\n",
       "      <td>0.1417</td>\n",
       "      <td>0.0549</td>\n",
       "      <td>-9.3561</td>\n",
       "      <td>41.0562</td>\n",
       "      <td>-9.4662</td>\n",
       "      <td>30.2987</td>\n",
       "      <td>256.5166</td>\n",
       "      <td>h</td>\n",
       "    </tr>\n",
       "    <tr>\n",
       "      <th>19018</th>\n",
       "      <td>19018</td>\n",
       "      <td>120.5135</td>\n",
       "      <td>76.9018</td>\n",
       "      <td>3.9939</td>\n",
       "      <td>0.0944</td>\n",
       "      <td>0.0683</td>\n",
       "      <td>5.8043</td>\n",
       "      <td>-93.5224</td>\n",
       "      <td>-63.8389</td>\n",
       "      <td>84.6874</td>\n",
       "      <td>408.3166</td>\n",
       "      <td>h</td>\n",
       "    </tr>\n",
       "    <tr>\n",
       "      <th>19019</th>\n",
       "      <td>19019</td>\n",
       "      <td>187.1814</td>\n",
       "      <td>53.0014</td>\n",
       "      <td>3.2093</td>\n",
       "      <td>0.2876</td>\n",
       "      <td>0.1539</td>\n",
       "      <td>-167.3125</td>\n",
       "      <td>-168.4558</td>\n",
       "      <td>31.4755</td>\n",
       "      <td>52.7310</td>\n",
       "      <td>272.3174</td>\n",
       "      <td>h</td>\n",
       "    </tr>\n",
       "  </tbody>\n",
       "</table>\n",
       "<p>19020 rows × 12 columns</p>\n",
       "</div>"
      ],
      "text/plain": [
       "       pindex   fLength    fWidth   fSize   fConc  fConc1     fAsym   fM3Long  \\\n",
       "0           0   28.7967   16.0021  2.6449  0.3918  0.1982   27.7004   22.0110   \n",
       "1           1   31.6036   11.7235  2.5185  0.5303  0.3773   26.2722   23.8238   \n",
       "2           2  162.0520  136.0310  4.0612  0.0374  0.0187  116.7410  -64.8580   \n",
       "3           3   23.8172    9.5728  2.3385  0.6147  0.3922   27.2107   -6.4633   \n",
       "4           4   75.1362   30.9205  3.1611  0.3168  0.1832   -5.5277   28.5525   \n",
       "...       ...       ...       ...     ...     ...     ...       ...       ...   \n",
       "19015   19015   21.3846   10.9170  2.6161  0.5857  0.3934   15.2618   11.5245   \n",
       "19016   19016   28.9452    6.7020  2.2672  0.5351  0.2784   37.0816   13.1853   \n",
       "19017   19017   75.4455   47.5305  3.4483  0.1417  0.0549   -9.3561   41.0562   \n",
       "19018   19018  120.5135   76.9018  3.9939  0.0944  0.0683    5.8043  -93.5224   \n",
       "19019   19019  187.1814   53.0014  3.2093  0.2876  0.1539 -167.3125 -168.4558   \n",
       "\n",
       "       fM3Trans   fAlpha     fDist class  \n",
       "0       -8.2027  40.0920   81.8828     g  \n",
       "1       -9.9574   6.3609  205.2610     g  \n",
       "2      -45.2160  76.9600  256.7880     g  \n",
       "3       -7.1513  10.4490  116.7370     g  \n",
       "4       21.8393   4.6480  356.4620     g  \n",
       "...         ...      ...       ...   ...  \n",
       "19015    2.8766   2.4229  106.8258     h  \n",
       "19016   -2.9632  86.7975  247.4560     h  \n",
       "19017   -9.4662  30.2987  256.5166     h  \n",
       "19018  -63.8389  84.6874  408.3166     h  \n",
       "19019   31.4755  52.7310  272.3174     h  \n",
       "\n",
       "[19020 rows x 12 columns]"
      ]
     },
     "execution_count": 5,
     "metadata": {},
     "output_type": "execute_result"
    }
   ],
   "source": [
    "df.dropna()"
   ]
  },
  {
   "cell_type": "code",
   "execution_count": 6,
   "id": "48fa548c-5d9d-4ebe-b2e9-923f23eb5c40",
   "metadata": {},
   "outputs": [
    {
     "name": "stdout",
     "output_type": "stream",
     "text": [
      "<class 'pandas.core.frame.DataFrame'>\n",
      "RangeIndex: 19020 entries, 0 to 19019\n",
      "Data columns (total 12 columns):\n",
      " #   Column    Non-Null Count  Dtype  \n",
      "---  ------    --------------  -----  \n",
      " 0   pindex    19020 non-null  int64  \n",
      " 1   fLength   19020 non-null  float64\n",
      " 2   fWidth    19020 non-null  float64\n",
      " 3   fSize     19020 non-null  float64\n",
      " 4   fConc     19020 non-null  float64\n",
      " 5   fConc1    19020 non-null  float64\n",
      " 6   fAsym     19020 non-null  float64\n",
      " 7   fM3Long   19020 non-null  float64\n",
      " 8   fM3Trans  19020 non-null  float64\n",
      " 9   fAlpha    19020 non-null  float64\n",
      " 10  fDist     19020 non-null  float64\n",
      " 11  class     19020 non-null  object \n",
      "dtypes: float64(10), int64(1), object(1)\n",
      "memory usage: 1.7+ MB\n"
     ]
    }
   ],
   "source": [
    "df.info()"
   ]
  },
  {
   "cell_type": "markdown",
   "id": "599f3cf5-a78e-47cc-a5d6-62a89426a27c",
   "metadata": {},
   "source": [
    "**Spotlights** \n",
    "\n",
    "Attribute information:\n",
    "\n",
    "1. pindex pseudo index\n",
    "2. fLength: continuous -- major axis of ellipse [mm]\n",
    "3. fWidth: continuous -- minor axis of ellipse [mm]\n",
    "4. fSize: continuous -- 10-log of sum of content of all pixels [in #phot]\n",
    "5. fConc: continuous -- ratio of sum of two highest pixels over fSize [ratio]\n",
    "6. fConc1: continuous -- ratio of highest pixel over fSize [ratio]\n",
    "7. fAsym: continuous -- distance from highest pixel to center, projected onto major axis [mm]\n",
    "8. fM3Long: continuous -- 3rd root of third moment along major axis [mm]\n",
    "9. fM3Trans: continuous -- 3rd root of third moment along minor axis [mm]\n",
    "10. fAlpha: continuous -- angle of major axis with vector to origin [deg]\n",
    "11. fDist: continuous -- distance from origin to center of ellipse [mm]\n",
    "\n",
    "\n",
    "- The training set includes **19020 rows** and **12 columns**.\n",
    "- 11 columns contain float values, **1** column contains integer values,  and **1** column contains object values.\n",
    "- There is **no missing data** as all rows have values for every column.\n",
    "  "
   ]
  },
  {
   "cell_type": "markdown",
   "id": "27e849cb-bba0-4f45-b07b-8a505d239909",
   "metadata": {},
   "source": [
    "### Drop Unused Column\n",
    "\n",
    "The pseudo index column does not offer any valuable insights for the project's goals, so it will be eliminated."
   ]
  },
  {
   "cell_type": "code",
   "execution_count": 7,
   "id": "d0d134ca-0854-4013-bec7-1a8dbd563301",
   "metadata": {},
   "outputs": [],
   "source": [
    "df.drop(columns=[\"pindex\"], inplace=True)"
   ]
  },
  {
   "cell_type": "markdown",
   "id": "5753838a-1a7f-4d6b-bd81-2b31792230ee",
   "metadata": {},
   "source": [
    "#### Example data samples"
   ]
  },
  {
   "cell_type": "code",
   "execution_count": 8,
   "id": "6e3330b4-be92-43ba-9e56-98c86b34f4cb",
   "metadata": {},
   "outputs": [
    {
     "name": "stdout",
     "output_type": "stream",
     "text": [
      "Task 1:\n"
     ]
    },
    {
     "data": {
      "text/html": [
       "<div>\n",
       "<style scoped>\n",
       "    .dataframe tbody tr th:only-of-type {\n",
       "        vertical-align: middle;\n",
       "    }\n",
       "\n",
       "    .dataframe tbody tr th {\n",
       "        vertical-align: top;\n",
       "    }\n",
       "\n",
       "    .dataframe thead th {\n",
       "        text-align: right;\n",
       "    }\n",
       "</style>\n",
       "<table border=\"1\" class=\"dataframe\">\n",
       "  <thead>\n",
       "    <tr style=\"text-align: right;\">\n",
       "      <th></th>\n",
       "      <th>fLength</th>\n",
       "      <th>fWidth</th>\n",
       "      <th>fSize</th>\n",
       "      <th>fConc</th>\n",
       "      <th>fConc1</th>\n",
       "      <th>fAsym</th>\n",
       "      <th>fM3Long</th>\n",
       "      <th>fM3Trans</th>\n",
       "      <th>fAlpha</th>\n",
       "      <th>fDist</th>\n",
       "      <th>class</th>\n",
       "    </tr>\n",
       "  </thead>\n",
       "  <tbody>\n",
       "    <tr>\n",
       "      <th>0</th>\n",
       "      <td>28.7967</td>\n",
       "      <td>16.0021</td>\n",
       "      <td>2.6449</td>\n",
       "      <td>0.3918</td>\n",
       "      <td>0.1982</td>\n",
       "      <td>27.7004</td>\n",
       "      <td>22.0110</td>\n",
       "      <td>-8.2027</td>\n",
       "      <td>40.0920</td>\n",
       "      <td>81.8828</td>\n",
       "      <td>g</td>\n",
       "    </tr>\n",
       "    <tr>\n",
       "      <th>1</th>\n",
       "      <td>31.6036</td>\n",
       "      <td>11.7235</td>\n",
       "      <td>2.5185</td>\n",
       "      <td>0.5303</td>\n",
       "      <td>0.3773</td>\n",
       "      <td>26.2722</td>\n",
       "      <td>23.8238</td>\n",
       "      <td>-9.9574</td>\n",
       "      <td>6.3609</td>\n",
       "      <td>205.2610</td>\n",
       "      <td>g</td>\n",
       "    </tr>\n",
       "    <tr>\n",
       "      <th>2</th>\n",
       "      <td>162.0520</td>\n",
       "      <td>136.0310</td>\n",
       "      <td>4.0612</td>\n",
       "      <td>0.0374</td>\n",
       "      <td>0.0187</td>\n",
       "      <td>116.7410</td>\n",
       "      <td>-64.8580</td>\n",
       "      <td>-45.2160</td>\n",
       "      <td>76.9600</td>\n",
       "      <td>256.7880</td>\n",
       "      <td>g</td>\n",
       "    </tr>\n",
       "    <tr>\n",
       "      <th>3</th>\n",
       "      <td>23.8172</td>\n",
       "      <td>9.5728</td>\n",
       "      <td>2.3385</td>\n",
       "      <td>0.6147</td>\n",
       "      <td>0.3922</td>\n",
       "      <td>27.2107</td>\n",
       "      <td>-6.4633</td>\n",
       "      <td>-7.1513</td>\n",
       "      <td>10.4490</td>\n",
       "      <td>116.7370</td>\n",
       "      <td>g</td>\n",
       "    </tr>\n",
       "    <tr>\n",
       "      <th>4</th>\n",
       "      <td>75.1362</td>\n",
       "      <td>30.9205</td>\n",
       "      <td>3.1611</td>\n",
       "      <td>0.3168</td>\n",
       "      <td>0.1832</td>\n",
       "      <td>-5.5277</td>\n",
       "      <td>28.5525</td>\n",
       "      <td>21.8393</td>\n",
       "      <td>4.6480</td>\n",
       "      <td>356.4620</td>\n",
       "      <td>g</td>\n",
       "    </tr>\n",
       "  </tbody>\n",
       "</table>\n",
       "</div>"
      ],
      "text/plain": [
       "    fLength    fWidth   fSize   fConc  fConc1     fAsym  fM3Long  fM3Trans  \\\n",
       "0   28.7967   16.0021  2.6449  0.3918  0.1982   27.7004  22.0110   -8.2027   \n",
       "1   31.6036   11.7235  2.5185  0.5303  0.3773   26.2722  23.8238   -9.9574   \n",
       "2  162.0520  136.0310  4.0612  0.0374  0.0187  116.7410 -64.8580  -45.2160   \n",
       "3   23.8172    9.5728  2.3385  0.6147  0.3922   27.2107  -6.4633   -7.1513   \n",
       "4   75.1362   30.9205  3.1611  0.3168  0.1832   -5.5277  28.5525   21.8393   \n",
       "\n",
       "    fAlpha     fDist class  \n",
       "0  40.0920   81.8828     g  \n",
       "1   6.3609  205.2610     g  \n",
       "2  76.9600  256.7880     g  \n",
       "3  10.4490  116.7370     g  \n",
       "4   4.6480  356.4620     g  "
      ]
     },
     "execution_count": 8,
     "metadata": {},
     "output_type": "execute_result"
    }
   ],
   "source": [
    "print(\"Task 1:\")\n",
    "df.head()"
   ]
  },
  {
   "cell_type": "code",
   "execution_count": 9,
   "id": "ba70957d-0255-4a49-9521-304464fa3f69",
   "metadata": {},
   "outputs": [
    {
     "name": "stdout",
     "output_type": "stream",
     "text": [
      "g    12332\n",
      "h     6688\n",
      "Name: class, dtype: int64\n"
     ]
    },
    {
     "data": {
      "image/png": "[encoded data removed]",
      "text/plain": [
       "<Figure size 640x480 with 1 Axes>"
      ]
     },
     "metadata": {},
     "output_type": "display_data"
    }
   ],
   "source": [
    "multiclass = df[\"class\"].value_counts()\n",
    "multiclass.plot(kind=\"bar\", title=\"Task 1 - Class Count\", grid=False)\n",
    "print(multiclass)"
   ]
  },
  {
   "cell_type": "markdown",
   "id": "8500ed5e-aef2-4739-9de3-ebedba4b7915",
   "metadata": {},
   "source": [
    "**Spotlights** \n",
    "\n",
    "The class feature is comprised of multiple classes: \n",
    "\n",
    "- Class **g** -- gamma(signal) total : 12332\n",
    "- Class **h** -- hadrons(background) total : 6688"
   ]
  },
  {
   "cell_type": "code",
   "execution_count": 10,
   "id": "cc4b4cf0-8f2e-4143-937d-4b3956ca2782",
   "metadata": {
    "scrolled": true
   },
   "outputs": [
    {
     "data": {
      "text/html": [
       "<div>\n",
       "<style scoped>\n",
       "    .dataframe tbody tr th:only-of-type {\n",
       "        vertical-align: middle;\n",
       "    }\n",
       "\n",
       "    .dataframe tbody tr th {\n",
       "        vertical-align: top;\n",
       "    }\n",
       "\n",
       "    .dataframe thead th {\n",
       "        text-align: right;\n",
       "    }\n",
       "</style>\n",
       "<table border=\"1\" class=\"dataframe\">\n",
       "  <thead>\n",
       "    <tr style=\"text-align: right;\">\n",
       "      <th></th>\n",
       "      <th>fLength</th>\n",
       "      <th>fWidth</th>\n",
       "      <th>fSize</th>\n",
       "      <th>fConc</th>\n",
       "      <th>fConc1</th>\n",
       "      <th>fAsym</th>\n",
       "      <th>fM3Long</th>\n",
       "      <th>fM3Trans</th>\n",
       "      <th>fAlpha</th>\n",
       "      <th>fDist</th>\n",
       "    </tr>\n",
       "  </thead>\n",
       "  <tbody>\n",
       "    <tr>\n",
       "      <th>count</th>\n",
       "      <td>19020.000000</td>\n",
       "      <td>19020.000000</td>\n",
       "      <td>19020.000000</td>\n",
       "      <td>19020.000000</td>\n",
       "      <td>19020.000000</td>\n",
       "      <td>19020.000000</td>\n",
       "      <td>19020.000000</td>\n",
       "      <td>19020.000000</td>\n",
       "      <td>19020.000000</td>\n",
       "      <td>19020.000000</td>\n",
       "    </tr>\n",
       "    <tr>\n",
       "      <th>mean</th>\n",
       "      <td>53.250154</td>\n",
       "      <td>22.180966</td>\n",
       "      <td>2.825017</td>\n",
       "      <td>0.380327</td>\n",
       "      <td>0.214657</td>\n",
       "      <td>-4.331745</td>\n",
       "      <td>10.545545</td>\n",
       "      <td>0.249726</td>\n",
       "      <td>27.645707</td>\n",
       "      <td>193.818026</td>\n",
       "    </tr>\n",
       "    <tr>\n",
       "      <th>std</th>\n",
       "      <td>42.364855</td>\n",
       "      <td>18.346056</td>\n",
       "      <td>0.472599</td>\n",
       "      <td>0.182813</td>\n",
       "      <td>0.110511</td>\n",
       "      <td>59.206062</td>\n",
       "      <td>51.000118</td>\n",
       "      <td>20.827439</td>\n",
       "      <td>26.103621</td>\n",
       "      <td>74.731787</td>\n",
       "    </tr>\n",
       "    <tr>\n",
       "      <th>min</th>\n",
       "      <td>4.283500</td>\n",
       "      <td>0.000000</td>\n",
       "      <td>1.941300</td>\n",
       "      <td>0.013100</td>\n",
       "      <td>0.000300</td>\n",
       "      <td>-457.916100</td>\n",
       "      <td>-331.780000</td>\n",
       "      <td>-205.894700</td>\n",
       "      <td>0.000000</td>\n",
       "      <td>1.282600</td>\n",
       "    </tr>\n",
       "    <tr>\n",
       "      <th>25%</th>\n",
       "      <td>24.336000</td>\n",
       "      <td>11.863800</td>\n",
       "      <td>2.477100</td>\n",
       "      <td>0.235800</td>\n",
       "      <td>0.128475</td>\n",
       "      <td>-20.586550</td>\n",
       "      <td>-12.842775</td>\n",
       "      <td>-10.849375</td>\n",
       "      <td>5.547925</td>\n",
       "      <td>142.492250</td>\n",
       "    </tr>\n",
       "    <tr>\n",
       "      <th>50%</th>\n",
       "      <td>37.147700</td>\n",
       "      <td>17.139900</td>\n",
       "      <td>2.739600</td>\n",
       "      <td>0.354150</td>\n",
       "      <td>0.196500</td>\n",
       "      <td>4.013050</td>\n",
       "      <td>15.314100</td>\n",
       "      <td>0.666200</td>\n",
       "      <td>17.679500</td>\n",
       "      <td>191.851450</td>\n",
       "    </tr>\n",
       "    <tr>\n",
       "      <th>75%</th>\n",
       "      <td>70.122175</td>\n",
       "      <td>24.739475</td>\n",
       "      <td>3.101600</td>\n",
       "      <td>0.503700</td>\n",
       "      <td>0.285225</td>\n",
       "      <td>24.063700</td>\n",
       "      <td>35.837800</td>\n",
       "      <td>10.946425</td>\n",
       "      <td>45.883550</td>\n",
       "      <td>240.563825</td>\n",
       "    </tr>\n",
       "    <tr>\n",
       "      <th>max</th>\n",
       "      <td>334.177000</td>\n",
       "      <td>256.382000</td>\n",
       "      <td>5.323300</td>\n",
       "      <td>0.893000</td>\n",
       "      <td>0.675200</td>\n",
       "      <td>575.240700</td>\n",
       "      <td>238.321000</td>\n",
       "      <td>179.851000</td>\n",
       "      <td>90.000000</td>\n",
       "      <td>495.561000</td>\n",
       "    </tr>\n",
       "  </tbody>\n",
       "</table>\n",
       "</div>"
      ],
      "text/plain": [
       "            fLength        fWidth         fSize         fConc        fConc1  \\\n",
       "count  19020.000000  19020.000000  19020.000000  19020.000000  19020.000000   \n",
       "mean      53.250154     22.180966      2.825017      0.380327      0.214657   \n",
       "std       42.364855     18.346056      0.472599      0.182813      0.110511   \n",
       "min        4.283500      0.000000      1.941300      0.013100      0.000300   \n",
       "25%       24.336000     11.863800      2.477100      0.235800      0.128475   \n",
       "50%       37.147700     17.139900      2.739600      0.354150      0.196500   \n",
       "75%       70.122175     24.739475      3.101600      0.503700      0.285225   \n",
       "max      334.177000    256.382000      5.323300      0.893000      0.675200   \n",
       "\n",
       "              fAsym       fM3Long      fM3Trans        fAlpha         fDist  \n",
       "count  19020.000000  19020.000000  19020.000000  19020.000000  19020.000000  \n",
       "mean      -4.331745     10.545545      0.249726     27.645707    193.818026  \n",
       "std       59.206062     51.000118     20.827439     26.103621     74.731787  \n",
       "min     -457.916100   -331.780000   -205.894700      0.000000      1.282600  \n",
       "25%      -20.586550    -12.842775    -10.849375      5.547925    142.492250  \n",
       "50%        4.013050     15.314100      0.666200     17.679500    191.851450  \n",
       "75%       24.063700     35.837800     10.946425     45.883550    240.563825  \n",
       "max      575.240700    238.321000    179.851000     90.000000    495.561000  "
      ]
     },
     "execution_count": 10,
     "metadata": {},
     "output_type": "execute_result"
    }
   ],
   "source": [
    "df.describe()"
   ]
  },
  {
   "cell_type": "markdown",
   "id": "624c52b6-856a-4bfb-8807-ff8644d3c651",
   "metadata": {},
   "source": [
    "### Task 2: Extract class column."
   ]
  },
  {
   "cell_type": "markdown",
   "id": "139b90ea-9fd7-41d0-b348-f90fa3f71f9c",
   "metadata": {},
   "source": [
    "#### Extract the class classes"
   ]
  },
  {
   "cell_type": "code",
   "execution_count": 9,
   "id": "4f49081e-5964-4358-8a20-ffd9fd4d225d",
   "metadata": {},
   "outputs": [
    {
     "name": "stdout",
     "output_type": "stream",
     "text": [
      "Task 2:\n",
      "\n",
      "       fLength  fWidth  fSize  fConc  fConc1   fAsym  fM3Long  fM3Trans  \\\n",
      "0        28.80   16.00   2.64   0.39    0.20   27.70    22.01     -8.20   \n",
      "1        31.60   11.72   2.52   0.53    0.38   26.27    23.82     -9.96   \n",
      "2       162.05  136.03   4.06   0.04    0.02  116.74   -64.86    -45.22   \n",
      "3        23.82    9.57   2.34   0.61    0.39   27.21    -6.46     -7.15   \n",
      "4        75.14   30.92   3.16   0.32    0.18   -5.53    28.55     21.84   \n",
      "...        ...     ...    ...    ...     ...     ...      ...       ...   \n",
      "19015    21.38   10.92   2.62   0.59    0.39   15.26    11.52      2.88   \n",
      "19016    28.95    6.70   2.27   0.54    0.28   37.08    13.19     -2.96   \n",
      "19017    75.45   47.53   3.45   0.14    0.05   -9.36    41.06     -9.47   \n",
      "19018   120.51   76.90   3.99   0.09    0.07    5.80   -93.52    -63.84   \n",
      "19019   187.18   53.00   3.21   0.29    0.15 -167.31  -168.46     31.48   \n",
      "\n",
      "       fAlpha  fDist  \n",
      "0       40.09  81.88  \n",
      "1        6.36 205.26  \n",
      "2       76.96 256.79  \n",
      "3       10.45 116.74  \n",
      "4        4.65 356.46  \n",
      "...       ...    ...  \n",
      "19015    2.42 106.83  \n",
      "19016   86.80 247.46  \n",
      "19017   30.30 256.52  \n",
      "19018   84.69 408.32  \n",
      "19019   52.73 272.32  \n",
      "\n",
      "[19020 rows x 10 columns]\n"
     ]
    }
   ],
   "source": [
    "\"\"\"Extract the numerical columns onto a variable named data_matrix and the classes to a variable named \n",
    "classes\"\"\"\n",
    "\n",
    "classes = df[\"class\"]\n",
    "\n",
    "\"\"\"Create dataframe of NUMERIC features\"\"\"\n",
    "data_matrix = df.drop(columns=\"class\")\n",
    "print(\"Task 2:\\n\")\n",
    "# print(data_matrix)\n",
    "with pd.option_context(\"float_format\", \"{:.2f}\".format):\n",
    "    print(data_matrix)"
   ]
  },
  {
   "cell_type": "markdown",
   "id": "7c9f726a-c6bb-4dc0-8280-f1e1c955a6a5",
   "metadata": {},
   "source": [
    "### Task 3: Create a correlation matrix of the numeric features.."
   ]
  },
  {
   "cell_type": "code",
   "execution_count": 10,
   "id": "caa24fb3-b953-469c-be2a-0e5f2f4fd34f",
   "metadata": {},
   "outputs": [
    {
     "name": "stdout",
     "output_type": "stream",
     "text": [
      "           fLength    fWidth     fSize     fConc    fConc1     fAsym  \\\n",
      "fLength   1.000000  0.770512  0.702454 -0.630999 -0.598145 -0.368556   \n",
      "fWidth    0.770512  1.000000  0.717517 -0.609779 -0.581141 -0.266961   \n",
      "fSize     0.702454  0.717517  1.000000 -0.850850 -0.808835 -0.159863   \n",
      "fConc    -0.630999 -0.609779 -0.850850  1.000000  0.976412  0.112272   \n",
      "fConc1   -0.598145 -0.581141 -0.808835  0.976412  1.000000  0.100159   \n",
      "fAsym    -0.368556 -0.266961 -0.159863  0.112272  0.100159  1.000000   \n",
      "fM3Long  -0.119747 -0.176234  0.095157 -0.121899 -0.118769  0.274045   \n",
      "fM3Trans  0.013389  0.039744  0.015455 -0.011294 -0.010966  0.002553   \n",
      "fAlpha   -0.008777  0.066061 -0.186675  0.235272  0.229799 -0.055689   \n",
      "fDist     0.418466  0.336816  0.437041 -0.328332 -0.304625 -0.206730   \n",
      "\n",
      "           fM3Long  fM3Trans    fAlpha     fDist  \n",
      "fLength  -0.119747  0.013389 -0.008777  0.418466  \n",
      "fWidth   -0.176234  0.039744  0.066061  0.336816  \n",
      "fSize     0.095157  0.015455 -0.186675  0.437041  \n",
      "fConc    -0.121899 -0.011294  0.235272 -0.328332  \n",
      "fConc1   -0.118769 -0.010966  0.229799 -0.304625  \n",
      "fAsym     0.274045  0.002553 -0.055689 -0.206730  \n",
      "fM3Long   1.000000 -0.017197 -0.186275  0.037025  \n",
      "fM3Trans -0.017197  1.000000  0.004659  0.011427  \n",
      "fAlpha   -0.186275  0.004659  1.000000 -0.220556  \n",
      "fDist     0.037025  0.011427 -0.220556  1.000000  \n"
     ]
    }
   ],
   "source": [
    "\"\"\"Use the `.corr()` method on `data_matrix` to get the correlation matrix\"\"\"\n",
    "\n",
    "correlation_matrix = data_matrix.corr()\n",
    "print(correlation_matrix)"
   ]
  },
  {
   "cell_type": "markdown",
   "id": "b80bca4b-73e5-4e51-b663-f3c69c0118f0",
   "metadata": {},
   "source": [
    "**Plot Heatmap of the correlation matrix**"
   ]
  },
  {
   "cell_type": "code",
   "execution_count": 11,
   "id": "2462b3ba-157e-45a2-a9f0-9ab6c6787382",
   "metadata": {},
   "outputs": [
    {
     "data": {
      "image/png": "[encoded data removed]",
      "text/plain": [
       "<Figure size 1100x1100 with 2 Axes>"
      ]
     },
     "metadata": {},
     "output_type": "display_data"
    }
   ],
   "source": [
    "# Specify size and title for visualization\n",
    "f, axes = plt.subplots(figsize=(11, 11))\n",
    "plt.title(\"TASK 3 - All Correlations\", fontsize=21)\n",
    "\n",
    "# Use Seaborn to plot the correlation matrix as a hetamap\n",
    "sns.heatmap(\n",
    "    correlation_matrix,\n",
    "    linewidths=3.0,\n",
    "    square=True,\n",
    "    cmap=\"viridis\",\n",
    "    linecolor=\"w\",\n",
    "    annot=True,\n",
    "    annot_kws={\"size\": 8},\n",
    "    cbar_kws={\"shrink\": 0.5},\n",
    ")\n",
    "plt.show()"
   ]
  },
  {
   "cell_type": "markdown",
   "id": "9a3991ac-e2cf-4058-a1a8-0be4575a1081",
   "metadata": {},
   "source": [
    "**Spotlights** \n",
    "\n",
    "- fsize and fwidth are highlt correlated with **flength** exhibiting multicolinearity. This wiill be addressed during the performance of the PCA to get a filtered set of features."
   ]
  },
  {
   "cell_type": "markdown",
   "id": "c8623a9a-fd49-4af0-aba5-fcaec70995d1",
   "metadata": {},
   "source": []
  },
  {
   "cell_type": "markdown",
   "id": "8730e1d7-f9f9-4210-9c5e-a2eee3839bb4",
   "metadata": {},
   "source": [
    "### Encode 'g' and 'h' classes.\n",
    "\n",
    "Encoding the class feature ensures that the data meets the requirements for the Pearson's Correlation Coefficient method, allowing for a meaningful examination of the relationships between variables."
   ]
  },
  {
   "cell_type": "code",
   "execution_count": 12,
   "id": "bbec3a02-eb63-47bb-9142-bee6ef16b611",
   "metadata": {
    "scrolled": true
   },
   "outputs": [
    {
     "name": "stdout",
     "output_type": "stream",
     "text": [
      "<class 'pandas.core.frame.DataFrame'>\n",
      "RangeIndex: 19020 entries, 0 to 19019\n",
      "Data columns (total 11 columns):\n",
      " #   Column    Non-Null Count  Dtype  \n",
      "---  ------    --------------  -----  \n",
      " 0   fLength   19020 non-null  float64\n",
      " 1   fWidth    19020 non-null  float64\n",
      " 2   fSize     19020 non-null  float64\n",
      " 3   fConc     19020 non-null  float64\n",
      " 4   fConc1    19020 non-null  float64\n",
      " 5   fAsym     19020 non-null  float64\n",
      " 6   fM3Long   19020 non-null  float64\n",
      " 7   fM3Trans  19020 non-null  float64\n",
      " 8   fAlpha    19020 non-null  float64\n",
      " 9   fDist     19020 non-null  float64\n",
      " 10  class     19020 non-null  int64  \n",
      "dtypes: float64(10), int64(1)\n",
      "memory usage: 1.6 MB\n"
     ]
    }
   ],
   "source": [
    "df[\"class\"] = df[\"class\"].replace({\"g\": 0, \"h\": 1})\n",
    "df.info()"
   ]
  },
  {
   "cell_type": "code",
   "execution_count": 12,
   "id": "a430bd46-98d4-49bc-9a37-c0480adf2ea2",
   "metadata": {},
   "outputs": [
    {
     "name": "stdout",
     "output_type": "stream",
     "text": [
      "'class' feature encoded into an integer.\n"
     ]
    }
   ],
   "source": [
    "print(\"'class' feature encoded as an integer.\")"
   ]
  },
  {
   "cell_type": "markdown",
   "id": "d92ed365-f10a-426b-b4b2-0b8d766bd97f",
   "metadata": {},
   "source": [
    "**Re-Encode 'g' and 'h' classes.**"
   ]
  },
  {
   "cell_type": "code",
   "execution_count": 13,
   "id": "5769eff0-d4b4-4cbb-bd58-71ab5dfd2523",
   "metadata": {},
   "outputs": [
    {
     "name": "stdout",
     "output_type": "stream",
     "text": [
      "class       1.000000\n",
      "fAlpha      0.460979\n",
      "fLength     0.307572\n",
      "fWidth      0.265596\n",
      "fSize       0.117795\n",
      "fDist       0.065203\n",
      "fM3Trans    0.003837\n",
      "fConc1     -0.004797\n",
      "fConc      -0.024615\n",
      "fAsym      -0.173587\n",
      "fM3Long    -0.193409\n",
      "Name: class, dtype: float64\n"
     ]
    }
   ],
   "source": [
    "print(df.corr()[\"class\"].sort_values(ascending=False))"
   ]
  },
  {
   "cell_type": "code",
   "execution_count": 14,
   "id": "bb3a6e54-aa54-4d17-965b-eddca6e6a064",
   "metadata": {
    "scrolled": true
   },
   "outputs": [
    {
     "name": "stdout",
     "output_type": "stream",
     "text": [
      "<class 'pandas.core.frame.DataFrame'>\n",
      "RangeIndex: 19020 entries, 0 to 19019\n",
      "Data columns (total 11 columns):\n",
      " #   Column    Non-Null Count  Dtype  \n",
      "---  ------    --------------  -----  \n",
      " 0   fLength   19020 non-null  float64\n",
      " 1   fWidth    19020 non-null  float64\n",
      " 2   fSize     19020 non-null  float64\n",
      " 3   fConc     19020 non-null  float64\n",
      " 4   fConc1    19020 non-null  float64\n",
      " 5   fAsym     19020 non-null  float64\n",
      " 6   fM3Long   19020 non-null  float64\n",
      " 7   fM3Trans  19020 non-null  float64\n",
      " 8   fAlpha    19020 non-null  float64\n",
      " 9   fDist     19020 non-null  float64\n",
      " 10  class     19020 non-null  object \n",
      "dtypes: float64(10), object(1)\n",
      "memory usage: 1.6+ MB\n"
     ]
    }
   ],
   "source": [
    "df[\"class\"] = df[\"class\"].replace({0: \"g\", 1: \"h\"})\n",
    "df.info()"
   ]
  },
  {
   "cell_type": "code",
   "execution_count": 13,
   "id": "c7d86919-604d-4975-aec7-742bf2ba8fd4",
   "metadata": {},
   "outputs": [
    {
     "name": "stdout",
     "output_type": "stream",
     "text": [
      "'class' feature re-encoded into an object.\n"
     ]
    }
   ],
   "source": [
    "print(\"'class' feature re-encoded back into an object.\")"
   ]
  },
  {
   "cell_type": "markdown",
   "id": "e6c72e1d-0a96-40ca-9828-5b5772c9ae41",
   "metadata": {},
   "source": [
    "### Task 4: Perform eigendecomposition.\n",
    "\n",
    "The net step utilizes the NumPy function np.linalg.eig to determine the eigenvectors and eigenvalues. This process, also arranges the eigenvalues in descending order by first sorting their indices, and then applying these indices to reorder the eigenvalues accordingly.\n",
    "\n",
    "In Principal Component Analysis (PCA), an **eigenvector** is a unit vector derived from the transformation matrix, characterized by a length of one. This vector indicates the direction of the principal component, helping to identify the most significant features in the data. \n",
    "\n",
    "The **eigenvalue**, on the other hand, serves as a coefficient for the eigenvector, quantifying the amount of variance associated with each principal component. Essentially, it determines the significance of each eigenvector in terms of how well it explains the variability within the dataset. A higher eigenvalue signifies a greater importance of the corresponding eigenvector in capturing the data's variance. An eigenvalue can be viewed as a collection of values, with each value representing the variance linked to its respective principal component. This relationship between eigenvalues and eigenvectors is crucial for understanding the structure of the data and for effectively reducing its dimensionality.\n"
   ]
  },
  {
   "cell_type": "code",
   "execution_count": 15,
   "id": "e9c98db6-fb13-4e87-9a3a-00ef9759aa35",
   "metadata": {},
   "outputs": [
    {
     "name": "stdout",
     "output_type": "stream",
     "text": [
      "Task 4:\n",
      "Eigenvalues length: 10, Original Number of Features: 10\n",
      "(10,) (10, 10)\n"
     ]
    }
   ],
   "source": [
    "print(\"Task 4:\")\n",
    "\"\"\"Perform eigendecomposition using `np.linalg.eig\"\"\"\n",
    "eigenvalues, eigenvectors = np.linalg.eig(correlation_matrix)\n",
    "print(\n",
    "    f\"Eigenvalues length: {eigenvalues.size}, Original Number of Features: {data_matrix.shape[1]}\"\n",
    ")\n",
    "\n",
    "\"\"\"Order the eigenvalues by ordering the indices of the eigenvalues using `argsort`, and use [::-1] to \n",
    "order them from greatest to smallest\"\"\"\n",
    "indices = eigenvalues.argsort()[::-1]\n",
    "eigenvalues = eigenvalues[indices]\n",
    "eigenvectors = eigenvectors[:, indices]\n",
    "\n",
    "print(eigenvalues.shape, eigenvectors.shape)"
   ]
  },
  {
   "cell_type": "markdown",
   "id": "4bd41a94-61eb-4bde-8693-1c9e8d7edbeb",
   "metadata": {},
   "source": [
    "### Task 5: Find the variance/information percentages for each eigenvalue.\n",
    "\n",
    "To determine the contribution of each eigenvalue, calculate their proportions relative to the overall sum of all eigenvalues. These proportions indicate the percentage of information that each eigenvector linked to the eigenvalues holds."
   ]
  },
  {
   "cell_type": "code",
   "execution_count": 16,
   "id": "8faa8d2c-af72-40eb-aa96-5d75fe71fb94",
   "metadata": {},
   "outputs": [],
   "source": [
    "\"\"\"Find the percentages of information for each eigenvector, which is generated by the proportion of\n",
    "its eigenvalues to the sum of all eigenvalues\"\"\"\n",
    "\n",
    "information_proportions = eigenvalues / eigenvalues.sum()\n",
    "information_percents = information_proportions * 100"
   ]
  },
  {
   "cell_type": "markdown",
   "id": "0deb77f1-360f-49f3-8cd7-26149f150333",
   "metadata": {},
   "source": [
    "**Plot the principal axes vs the information proportions**"
   ]
  },
  {
   "cell_type": "code",
   "execution_count": 17,
   "id": "90851234-9681-4802-9db3-c50c6184ab0c",
   "metadata": {},
   "outputs": [
    {
     "data": {
      "image/png": "[encoded data removed]",
      "text/plain": [
       "<Figure size 640x480 with 1 Axes>"
      ]
     },
     "metadata": {},
     "output_type": "display_data"
    }
   ],
   "source": [
    "\"\"\"Plot the principal axes vs the information proportions for each principal axis\"\"\"\n",
    "\n",
    "plt.figure()\n",
    "plt.plot(information_percents, \"ro-\", linewidth=2)\n",
    "plt.title(\"Task 5: Scree Plot\")\n",
    "plt.xlabel(\"Principal Axes\")\n",
    "plt.ylabel(\"Percent of Information Explained\")\n",
    "plt.show()"
   ]
  }
 ],
 "metadata": {
  "kernelspec": {
   "display_name": "Python 3 (ipykernel)",
   "language": "python",
   "name": "python3"
  },
  "language_info": {
   "codemirror_mode": {
    "name": "ipython",
    "version": 3
   },
   "file_extension": ".py",
   "mimetype": "text/x-python",
   "name": "python",
   "nbconvert_exporter": "python",
   "pygments_lexer": "ipython3",
   "version": "3.9.20"
  }
 },
 "nbformat": 4,
 "nbformat_minor": 5
}
